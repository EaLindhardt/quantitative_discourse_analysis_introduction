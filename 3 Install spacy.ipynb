{
 "cells": [
  {
   "cell_type": "markdown",
   "id": "7be3e89c",
   "metadata": {},
   "source": [
    "# Installing spacy"
   ]
  },
  {
   "cell_type": "markdown",
   "id": "de2df743",
   "metadata": {},
   "source": [
    "When working with text it is convenient to use some language tools in your analysis'. spaCy is such a tool.\n",
    "\n",
    "spaCy is an open-source natural language processing (NLP) library for Python. It is designed to be fast, efficient, and easy to use for various NLP tasks. spaCy provides pre-trained language models and a wide range of tools and features for working with text data, making it a popular choice for NLP tasks in research and industry applications.\n",
    "\n",
    "Here are some key features and use cases of spaCy:\n",
    "\n",
    "- Tokenization: spaCy can segment text into words, punctuation, and other meaningful tokens. It can handle complex tokenization tasks, including splitting contractions and handling special cases like hyphenated words.\n",
    "\n",
    "- Part-of-Speech Tagging: It can assign parts of speech (e.g., noun, verb, adjective) to each token in a text.\n",
    "\n",
    "- Named Entity Recognition (NER): spaCy can identify and classify named entities in text, such as names of persons, organizations, locations, dates, and more.\n",
    "\n",
    "- Dependency Parsing: It can analyze the grammatical structure of a sentence by identifying the relationships between words and their dependencies.\n",
    "\n",
    "- Lemmatization: spaCy can convert words to their base or dictionary forms (lemmas). For example, it can transform \"running\" to \"run\" and \"better\" to \"good.\"\n",
    "\n",
    "- Text Classification: It supports text classification tasks, such as sentiment analysis and topic classification, using machine learning models.\n",
    "\n",
    "- Entity Linking: It can link named entities in the text to external knowledge bases or databases.\n",
    "\n",
    "- Training Custom Models: You can train custom models using spaCy, which allows you to create models for specific languages or domains.\n",
    "\n",
    "spaCy is known for its performance and efficiency, making it suitable for both small-scale NLP tasks and large-scale text processing applications. It supports multiple languages and has a rich ecosystem of extensions and third-party packages to enhance its capabilities.\n",
    "\n",
    "We will not cover it all, but use some functionality from spacy throughout the course. You can read more about spaCy here: https://spacy.io/"
   ]
  },
  {
   "cell_type": "markdown",
   "id": "39cff746",
   "metadata": {},
   "source": [
    "To get access to the functionality we need to download and install spacy. This can be done directly from this jupyter notebook by running the following code snippets. You can run the code either by 1) clicking on the code block and on the \"run\"-button in top of the page, or by 2) clicking on the code block and press 'Shift+enter'. (you should se a star to the right of the code block if it is running or a number if it is done running the code)."
   ]
  },
  {
   "cell_type": "code",
   "execution_count": null,
   "id": "b0fd73f3",
   "metadata": {},
   "outputs": [],
   "source": [
    "!pip install spacy"
   ]
  },
  {
   "cell_type": "markdown",
   "id": "dc546dd2",
   "metadata": {},
   "source": [
    "This code installs spacy. it might take some time - if it takes more than 15 minutes, consider restarting the kernel and try again (in top of the page)"
   ]
  },
  {
   "cell_type": "markdown",
   "id": "4eb9f1bd",
   "metadata": {},
   "source": [
    "We also need to download some models for each of the languages we want to work with. In this case we will download an english model (en_core_web_lg) and an english model a danish model (da_core_news_lg)"
   ]
  },
  {
   "cell_type": "markdown",
   "id": "9e91520b",
   "metadata": {},
   "source": [
    "The english model"
   ]
  },
  {
   "cell_type": "code",
   "execution_count": null,
   "id": "f4517968",
   "metadata": {},
   "outputs": [],
   "source": [
    "!python -m spacy download en_core_web_sm"
   ]
  },
  {
   "cell_type": "code",
   "execution_count": null,
   "id": "86a4933f",
   "metadata": {},
   "outputs": [],
   "source": [
    "!python -m spacy download en_core_web_md"
   ]
  },
  {
   "cell_type": "code",
   "execution_count": null,
   "id": "86e1508c",
   "metadata": {},
   "outputs": [],
   "source": [
    "!python -m spacy download en_core_web_lg"
   ]
  },
  {
   "cell_type": "markdown",
   "id": "f7401ae2",
   "metadata": {},
   "source": [
    "The danish model"
   ]
  },
  {
   "cell_type": "code",
   "execution_count": null,
   "id": "124e6cd9",
   "metadata": {},
   "outputs": [],
   "source": [
    "!python -m spacy download da_core_news_sm"
   ]
  },
  {
   "cell_type": "code",
   "execution_count": null,
   "id": "b2d3960b",
   "metadata": {},
   "outputs": [],
   "source": [
    "!python -m spacy download da_core_news_md"
   ]
  },
  {
   "cell_type": "code",
   "execution_count": null,
   "id": "71ede13b",
   "metadata": {},
   "outputs": [],
   "source": [
    "!python -m spacy download da_core_news_lg"
   ]
  },
  {
   "cell_type": "markdown",
   "id": "e779c1ee",
   "metadata": {},
   "source": [
    "This installation is only needed once. From now on you only need to write the following code when using the spaCy-library"
   ]
  },
  {
   "cell_type": "code",
   "execution_count": null,
   "id": "cf6c534b",
   "metadata": {},
   "outputs": [],
   "source": [
    "import spacy"
   ]
  },
  {
   "cell_type": "markdown",
   "id": "59c5d384",
   "metadata": {},
   "source": [
    "If you work with english texts you need to run the following code to specify the model:"
   ]
  },
  {
   "cell_type": "code",
   "execution_count": null,
   "id": "9773b09a",
   "metadata": {},
   "outputs": [],
   "source": [
    "nlp = spacy.load(\"en_core_web_lg\")"
   ]
  },
  {
   "cell_type": "markdown",
   "id": "5ed856be",
   "metadata": {},
   "source": [
    "or if you work with danish texts you need to run the following code to specify the model:"
   ]
  },
  {
   "cell_type": "code",
   "execution_count": null,
   "id": "6594c990",
   "metadata": {},
   "outputs": [],
   "source": [
    "nlp = spacy.load(\"da_core_news_lg\")"
   ]
  },
  {
   "cell_type": "markdown",
   "id": "f002021c",
   "metadata": {},
   "source": [
    "# Install DaCy"
   ]
  },
  {
   "cell_type": "markdown",
   "id": "d7bf3e02",
   "metadata": {},
   "source": [
    "Similar to spacy, we will also uce DaCy. DaCy is a Danish natural language preprocessing framework made with SpaCy. You can read more about DaCY here: https://github.com/centre-for-humanities-computing/DaCy"
   ]
  },
  {
   "cell_type": "markdown",
   "id": "07387c38",
   "metadata": {},
   "source": [
    "Install DaCy with this code:"
   ]
  },
  {
   "cell_type": "code",
   "execution_count": null,
   "id": "03bea7ec",
   "metadata": {},
   "outputs": [],
   "source": [
    "!pip install DaCy"
   ]
  },
  {
   "cell_type": "markdown",
   "id": "f4835d7b",
   "metadata": {},
   "source": [
    "We can now use dacy by importing it, just as we did with spacy"
   ]
  },
  {
   "cell_type": "code",
   "execution_count": null,
   "id": "390e9d7b",
   "metadata": {},
   "outputs": [],
   "source": [
    "import dacy"
   ]
  },
  {
   "cell_type": "markdown",
   "id": "580b1792",
   "metadata": {},
   "source": [
    "You don't need to download specific models for dacy, since dacy already includes several models, which you can see by running the following code:"
   ]
  },
  {
   "cell_type": "code",
   "execution_count": null,
   "id": "8cc68fbb",
   "metadata": {},
   "outputs": [],
   "source": [
    "for model in dacy.models():\n",
    "    print(model)"
   ]
  },
  {
   "cell_type": "markdown",
   "id": "f6241ef0",
   "metadata": {},
   "source": [
    "If everything works so far (if you see a small number to the left of your code), you are done installing and ready to get started !"
   ]
  }
 ],
 "metadata": {
  "kernelspec": {
   "display_name": "Python 3 (ipykernel)",
   "language": "python",
   "name": "python3"
  },
  "language_info": {
   "codemirror_mode": {
    "name": "ipython",
    "version": 3
   },
   "file_extension": ".py",
   "mimetype": "text/x-python",
   "name": "python",
   "nbconvert_exporter": "python",
   "pygments_lexer": "ipython3",
   "version": "3.11.5"
  }
 },
 "nbformat": 4,
 "nbformat_minor": 5
}
