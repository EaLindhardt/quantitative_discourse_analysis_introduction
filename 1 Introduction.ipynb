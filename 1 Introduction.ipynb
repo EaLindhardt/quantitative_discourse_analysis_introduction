{
 "cells": [
  {
   "cell_type": "markdown",
   "id": "bf6f638a",
   "metadata": {},
   "source": [
    "Here you find a short introduction on some of the most basic and important functionalities in python. Do not panic if it seems a bit odd - python is a whole new language, and it takes time to get used to both the terms and the logic behind it.\n",
    "\n",
    "Try to run the code snippets and take your time to understand the different parts of the code."
   ]
  },
  {
   "cell_type": "markdown",
   "id": "93deaf80",
   "metadata": {},
   "source": [
    "# Variables"
   ]
  },
  {
   "cell_type": "markdown",
   "id": "2fa8b225",
   "metadata": {},
   "source": [
    "A variable is a way to assign some information to a given symbolic name. You can understand variables as some kind of container to store some type of data. Here are some examples of variables:"
   ]
  },
  {
   "cell_type": "code",
   "execution_count": null,
   "id": "a566ccc1",
   "metadata": {},
   "outputs": [],
   "source": [
    "a = 1 # the variable a is assigned to the value 1"
   ]
  },
  {
   "cell_type": "code",
   "execution_count": null,
   "id": "4c64b059",
   "metadata": {},
   "outputs": [],
   "source": [
    "a # If i call a, I get the assigned value as return"
   ]
  },
  {
   "cell_type": "code",
   "execution_count": null,
   "id": "865b32c0",
   "metadata": {},
   "outputs": [],
   "source": [
    "b = 2.5"
   ]
  },
  {
   "cell_type": "markdown",
   "id": "68c29c6c",
   "metadata": {},
   "source": [
    "print the assigned value for b in the cell below"
   ]
  },
  {
   "cell_type": "code",
   "execution_count": null,
   "id": "511f7878",
   "metadata": {},
   "outputs": [],
   "source": []
  },
  {
   "cell_type": "markdown",
   "id": "f097d085",
   "metadata": {},
   "source": [
    "You can work with variables in several way, for example:"
   ]
  },
  {
   "cell_type": "code",
   "execution_count": null,
   "id": "dcd2f91d",
   "metadata": {},
   "outputs": [],
   "source": [
    "a + b"
   ]
  },
  {
   "cell_type": "code",
   "execution_count": null,
   "id": "7a3afb9e",
   "metadata": {},
   "outputs": [],
   "source": [
    "a * 4"
   ]
  },
  {
   "cell_type": "code",
   "execution_count": null,
   "id": "02a2bf47",
   "metadata": {},
   "outputs": [],
   "source": [
    "a + 6 * b"
   ]
  },
  {
   "cell_type": "code",
   "execution_count": null,
   "id": "bc0bc973",
   "metadata": {},
   "outputs": [],
   "source": [
    "a / b"
   ]
  },
  {
   "cell_type": "markdown",
   "id": "73aa9262",
   "metadata": {},
   "source": [
    "A variable does not need to be numerical"
   ]
  },
  {
   "cell_type": "code",
   "execution_count": null,
   "id": "98bda6d6",
   "metadata": {},
   "outputs": [],
   "source": [
    "c = \"Alice\""
   ]
  },
  {
   "cell_type": "code",
   "execution_count": null,
   "id": "0e335b9f",
   "metadata": {},
   "outputs": [],
   "source": [
    "c"
   ]
  },
  {
   "cell_type": "code",
   "execution_count": null,
   "id": "6ee6d38c",
   "metadata": {},
   "outputs": [],
   "source": [
    "a * c"
   ]
  },
  {
   "cell_type": "markdown",
   "id": "612b095a",
   "metadata": {},
   "source": [
    "What do you get if you run the following code? Think of a solution before running it."
   ]
  },
  {
   "cell_type": "code",
   "execution_count": null,
   "id": "0c16b900",
   "metadata": {},
   "outputs": [],
   "source": [
    "3 * a * c"
   ]
  },
  {
   "cell_type": "markdown",
   "id": "8d1d8353",
   "metadata": {},
   "source": [
    "The value of your data might change if you run it through a program"
   ]
  },
  {
   "cell_type": "code",
   "execution_count": null,
   "id": "732f78b6",
   "metadata": {},
   "outputs": [],
   "source": [
    "a = a + 1"
   ]
  },
  {
   "cell_type": "code",
   "execution_count": null,
   "id": "47634244",
   "metadata": {},
   "outputs": [],
   "source": [
    "a"
   ]
  },
  {
   "cell_type": "markdown",
   "id": "0ecf1a15",
   "metadata": {},
   "source": [
    "What is your new value of the variable b after running the following code?"
   ]
  },
  {
   "cell_type": "code",
   "execution_count": null,
   "id": "a4f09628",
   "metadata": {},
   "outputs": [],
   "source": [
    "b = a + 2*b"
   ]
  },
  {
   "cell_type": "code",
   "execution_count": null,
   "id": "958c2917",
   "metadata": {},
   "outputs": [],
   "source": [
    "b"
   ]
  },
  {
   "cell_type": "markdown",
   "id": "7db2c888",
   "metadata": {},
   "source": [
    "It is a good idea naming your variable with caution. As a rule you can not start your variable name with numbers, and you should avoid using too many symbols other than \"-\" and \"\\_\" in your variable name. The most common is using \"\\_\" instead of spaces (as you can not use spaces in a variable name), or using capital letters in the beginning of every word. These naming strategies are called snake case and pamel case."
   ]
  },
  {
   "cell_type": "code",
   "execution_count": null,
   "id": "92ddfabb",
   "metadata": {},
   "outputs": [],
   "source": [
    "my_name = \"Alice\" #snake case example"
   ]
  },
  {
   "cell_type": "code",
   "execution_count": null,
   "id": "1d550cbb",
   "metadata": {},
   "outputs": [],
   "source": [
    "my_name"
   ]
  },
  {
   "cell_type": "code",
   "execution_count": null,
   "id": "4318f1bd",
   "metadata": {},
   "outputs": [],
   "source": [
    "YourName = \"Bob\" #pascal case example"
   ]
  },
  {
   "cell_type": "code",
   "execution_count": null,
   "id": "652c5483",
   "metadata": {},
   "outputs": [],
   "source": [
    "YourName"
   ]
  },
  {
   "cell_type": "markdown",
   "id": "37ef467a",
   "metadata": {},
   "source": [
    "When working with many variables at once it might be easier for you to understand your code, if you have chosen some informative variable names."
   ]
  },
  {
   "cell_type": "markdown",
   "id": "2d0b3dde",
   "metadata": {},
   "source": [
    "For more information about variables, see this page: https://www.w3schools.com/python/python_variables.asp"
   ]
  },
  {
   "cell_type": "markdown",
   "id": "c3fe352a",
   "metadata": {},
   "source": [
    "# Data types"
   ]
  },
  {
   "cell_type": "markdown",
   "id": "f5c654da",
   "metadata": {},
   "source": [
    "When working with code we have several different types of data. For each data type you got a set of possible operations that can be performed on the data. "
   ]
  },
  {
   "cell_type": "markdown",
   "id": "b54ebf48",
   "metadata": {},
   "source": [
    "The most common data types, and the data types you might need when working with text, are the following:\n",
    "\n",
    "``` \n",
    "text type:          str\n",
    "numerical types:    int, float\n",
    "sequence types:     list, range\n",
    "mapping type:       dict\n",
    "\n",
    "```\n",
    "\n",
    "(There are more data types. Feel free to ask or read about them yourself. We've chosen the most common ones used all the time when working with text)"
   ]
  },
  {
   "cell_type": "markdown",
   "id": "cc63d35d",
   "metadata": {},
   "source": [
    "In the following you get some examples for each data type and some basic functionality. You will also find links to more exhaustive information about the given data type and its functionality."
   ]
  },
  {
   "cell_type": "markdown",
   "id": "036957f4",
   "metadata": {},
   "source": [
    "## Text type"
   ]
  },
  {
   "cell_type": "markdown",
   "id": "ccf81a4f",
   "metadata": {},
   "source": [
    "The text data type in python is called a string, and is often referred to as \"str\". A string is sorrounded by quotation marks."
   ]
  },
  {
   "cell_type": "code",
   "execution_count": null,
   "id": "eea2a5c8",
   "metadata": {},
   "outputs": [],
   "source": [
    "\"Hello\""
   ]
  },
  {
   "cell_type": "markdown",
   "id": "42e2dfd3",
   "metadata": {},
   "source": [
    "Try to write an run another string yourself"
   ]
  },
  {
   "cell_type": "code",
   "execution_count": null,
   "id": "b186036c",
   "metadata": {},
   "outputs": [],
   "source": []
  },
  {
   "cell_type": "markdown",
   "id": "9c26628c",
   "metadata": {},
   "source": [
    "You can use the ```print()``` function when working with strings"
   ]
  },
  {
   "cell_type": "code",
   "execution_count": null,
   "id": "0f13a63f",
   "metadata": {},
   "outputs": [],
   "source": [
    "print(\"Hello world\")"
   ]
  },
  {
   "cell_type": "markdown",
   "id": "b9b685a8",
   "metadata": {},
   "source": [
    "The print statement is especially handy when working with string variables:"
   ]
  },
  {
   "cell_type": "code",
   "execution_count": null,
   "id": "d122c52d",
   "metadata": {},
   "outputs": [],
   "source": [
    "d = \"If you want to print the same thing over and over again. \"\n",
    "e = \"How nice that I don't need to write this sentence over and over again.\""
   ]
  },
  {
   "cell_type": "code",
   "execution_count": null,
   "id": "e64f4a93",
   "metadata": {},
   "outputs": [],
   "source": [
    "print(d, 4*e)"
   ]
  },
  {
   "cell_type": "markdown",
   "id": "51281b07",
   "metadata": {},
   "source": [
    "You can add several strings to each other"
   ]
  },
  {
   "cell_type": "code",
   "execution_count": null,
   "id": "1a86ede6",
   "metadata": {},
   "outputs": [],
   "source": [
    "d + e"
   ]
  },
  {
   "cell_type": "markdown",
   "id": "5e0fe96e",
   "metadata": {},
   "source": [
    "Some useful commands on strings are:\n",
    "```\n",
    "print() # For some commands you have to fill in your text in the parenthesis\n",
    "*name_of_variable*.split() # for other commands you write your variabel name first followed by a period and the function name\n",
    "len()\n",
    "*name_of_variable*.replace()\n",
    "*name_of_variable*.startswith(\"\")\n",
    "*name_of_variable*.endsswith(\"\")\n",
    "\n",
    "```\n"
   ]
  },
  {
   "cell_type": "markdown",
   "id": "d0b27f50",
   "metadata": {},
   "source": [
    "Read the comments marked with \"#\" before running the code"
   ]
  },
  {
   "cell_type": "code",
   "execution_count": null,
   "id": "03f08215",
   "metadata": {},
   "outputs": [],
   "source": [
    "print(\"We like discourse analysis\") #What is the return print?"
   ]
  },
  {
   "cell_type": "code",
   "execution_count": null,
   "id": "ddbaeb1b",
   "metadata": {},
   "outputs": [],
   "source": [
    "print(my_name, \"and\", YourName) #What is the return print?"
   ]
  },
  {
   "cell_type": "markdown",
   "id": "f0d4d592",
   "metadata": {},
   "source": [
    "For the following examples we will use the variable \"e\" as an example"
   ]
  },
  {
   "cell_type": "code",
   "execution_count": null,
   "id": "f73d5370",
   "metadata": {},
   "outputs": [],
   "source": [
    "e"
   ]
  },
  {
   "cell_type": "code",
   "execution_count": null,
   "id": "2a48a569",
   "metadata": {},
   "outputs": [],
   "source": [
    "e.split() # This function splits your string every time there is a space"
   ]
  },
  {
   "cell_type": "code",
   "execution_count": null,
   "id": "259fcfba",
   "metadata": {},
   "outputs": [],
   "source": [
    "len(e) # counts the number of characters in your string"
   ]
  },
  {
   "cell_type": "code",
   "execution_count": null,
   "id": "b4201c47",
   "metadata": {},
   "outputs": [],
   "source": [
    "e.startswith(\"How\") # checks whether your string starts with \"How\""
   ]
  },
  {
   "cell_type": "code",
   "execution_count": null,
   "id": "f73d3a42",
   "metadata": {},
   "outputs": [],
   "source": [
    "e.startswith(\"Heklo\") # checks whether your string starts with \"Hello\". What do you think the return print will be?"
   ]
  },
  {
   "cell_type": "code",
   "execution_count": null,
   "id": "b03934fb",
   "metadata": {},
   "outputs": [],
   "source": [
    "e.endswith(\"again\") # checks whether your string ends with \"again\""
   ]
  },
  {
   "cell_type": "markdown",
   "id": "60e1e77b",
   "metadata": {},
   "source": [
    "Ooops, we did miss the dot at the end! It checks for all characters, and not just letters."
   ]
  },
  {
   "cell_type": "code",
   "execution_count": null,
   "id": "e167bb76",
   "metadata": {},
   "outputs": [],
   "source": [
    "e.endswith(\"again. \") # checks whether your string ends with \"again.\""
   ]
  },
  {
   "cell_type": "markdown",
   "id": "7591e49d",
   "metadata": {},
   "source": [
    "## Numerical"
   ]
  },
  {
   "cell_type": "markdown",
   "id": "9e70115b",
   "metadata": {},
   "source": [
    "The most common numerical data is integers and floats. They are referred to as \"int\" and \"float\". You can work with general mathematical operations such as +, -, * (multiplikation) and / (division). "
   ]
  },
  {
   "cell_type": "code",
   "execution_count": null,
   "id": "36d73fab",
   "metadata": {},
   "outputs": [],
   "source": [
    "4 + 7"
   ]
  },
  {
   "cell_type": "code",
   "execution_count": null,
   "id": "6075bc34",
   "metadata": {},
   "outputs": [],
   "source": [
    "9 - 3.5"
   ]
  },
  {
   "cell_type": "code",
   "execution_count": null,
   "id": "e309296b",
   "metadata": {},
   "outputs": [],
   "source": [
    "23 * 4"
   ]
  },
  {
   "cell_type": "code",
   "execution_count": null,
   "id": "34aa46dd",
   "metadata": {},
   "outputs": [],
   "source": [
    "45 / 8"
   ]
  },
  {
   "cell_type": "markdown",
   "id": "0021f2b6",
   "metadata": {},
   "source": [
    "## Sequence types"
   ]
  },
  {
   "cell_type": "markdown",
   "id": "fa429f88",
   "metadata": {},
   "source": [
    "### List"
   ]
  },
  {
   "cell_type": "markdown",
   "id": "2e14f0ee",
   "metadata": {},
   "source": [
    "Lists are very common in all kind of situations. A list is an amount of values or variables stored together in a specific order. A list is made by assigning a variable name with square brackets."
   ]
  },
  {
   "cell_type": "code",
   "execution_count": null,
   "id": "450b47e7",
   "metadata": {},
   "outputs": [],
   "source": [
    "my_list = [\"Ananas\", \"Banana\", \"Cubes\"]  # makes a list under the variable name \"my_other_list\" with three elements \"Ananas\", \"Bananas\" and \"Cubes\""
   ]
  },
  {
   "cell_type": "code",
   "execution_count": null,
   "id": "055c9168",
   "metadata": {},
   "outputs": [],
   "source": [
    "my_list"
   ]
  },
  {
   "cell_type": "markdown",
   "id": "e2615257",
   "metadata": {},
   "source": [
    "The list is arranged in a specific order, and this list is different from the one above nonetheless it includes all the same values."
   ]
  },
  {
   "cell_type": "code",
   "execution_count": null,
   "id": "2b9f57d5",
   "metadata": {},
   "outputs": [],
   "source": [
    "my_other_list = [\"Banana\", \"Ananas\", \"Cubes\"]"
   ]
  },
  {
   "cell_type": "markdown",
   "id": "8e7384d5",
   "metadata": {},
   "source": [
    "You can count the length of your list just as you counted the length of a string above"
   ]
  },
  {
   "cell_type": "code",
   "execution_count": null,
   "id": "c2826441",
   "metadata": {},
   "outputs": [],
   "source": [
    "len(my_list) # count how many elements you have on your list"
   ]
  },
  {
   "cell_type": "markdown",
   "id": "0b50bff0",
   "metadata": {},
   "source": [
    "You can have different types of data on the same list"
   ]
  },
  {
   "cell_type": "code",
   "execution_count": null,
   "id": "b37daadf",
   "metadata": {},
   "outputs": [],
   "source": [
    "my_new_list = [2, \"Sunglasses\", \"5\", 5]"
   ]
  },
  {
   "cell_type": "code",
   "execution_count": null,
   "id": "45c8710a",
   "metadata": {},
   "outputs": [],
   "source": [
    "my_new_list # what does it mean what we have quotation marks around the number \"5\"?"
   ]
  },
  {
   "cell_type": "markdown",
   "id": "7224e73a",
   "metadata": {},
   "source": [
    "You can add elements on a list with \"*name_of_list*.append\". If for example I want to add the element \"shoes\" on my_new_list:"
   ]
  },
  {
   "cell_type": "code",
   "execution_count": null,
   "id": "cc30f523",
   "metadata": {},
   "outputs": [],
   "source": [
    "my_new_list.append(\"shoes\") # adds the element \"shoes\" to \"my_new_list\""
   ]
  },
  {
   "cell_type": "code",
   "execution_count": null,
   "id": "59950d60",
   "metadata": {},
   "outputs": [],
   "source": [
    "my_new_list"
   ]
  },
  {
   "cell_type": "markdown",
   "id": "67826ba2",
   "metadata": {},
   "source": [
    "You can also make an empty list. This might seem odd, but is actually used very often as a placeholder until you get some processed data to add to the empty list. "
   ]
  },
  {
   "cell_type": "code",
   "execution_count": null,
   "id": "ad5ba453",
   "metadata": {},
   "outputs": [],
   "source": [
    "my_list_3 = [] #creates an empty list"
   ]
  },
  {
   "cell_type": "code",
   "execution_count": null,
   "id": "5b1f3a03",
   "metadata": {},
   "outputs": [],
   "source": [
    "my_list_3"
   ]
  },
  {
   "cell_type": "code",
   "execution_count": null,
   "id": "3489a854",
   "metadata": {},
   "outputs": [],
   "source": [
    "my_list_3.append(\"Some result\") # adds the element \"Some result\" to \"my_list_3\""
   ]
  },
  {
   "cell_type": "code",
   "execution_count": null,
   "id": "b7caf05f",
   "metadata": {},
   "outputs": [],
   "source": [
    "my_list_3"
   ]
  },
  {
   "cell_type": "code",
   "execution_count": null,
   "id": "19a5d96c",
   "metadata": {},
   "outputs": [],
   "source": [
    "my_list_3.append(3*b) # What is added to \"my_list_3\" ?"
   ]
  },
  {
   "cell_type": "code",
   "execution_count": null,
   "id": "301c86e3",
   "metadata": {},
   "outputs": [],
   "source": [
    "my_list_3"
   ]
  },
  {
   "cell_type": "markdown",
   "id": "54972a67",
   "metadata": {},
   "source": [
    "To remove an item in a list you can do the following:"
   ]
  },
  {
   "cell_type": "code",
   "execution_count": null,
   "id": "a2daecdd",
   "metadata": {},
   "outputs": [],
   "source": [
    "my_list"
   ]
  },
  {
   "cell_type": "code",
   "execution_count": null,
   "id": "ee11deba",
   "metadata": {},
   "outputs": [],
   "source": [
    "my_list.remove(\"Banana\")"
   ]
  },
  {
   "cell_type": "code",
   "execution_count": null,
   "id": "6c876806",
   "metadata": {},
   "outputs": [],
   "source": [
    "my_list"
   ]
  },
  {
   "cell_type": "markdown",
   "id": "88e5703b",
   "metadata": {},
   "source": [
    "for more information about lists: https://www.w3schools.com/python/python_lists.asp"
   ]
  },
  {
   "cell_type": "markdown",
   "id": "481faeae",
   "metadata": {},
   "source": [
    "## Index and slicing"
   ]
  },
  {
   "cell_type": "markdown",
   "id": "94d47cf5",
   "metadata": {},
   "source": [
    "For some data types (such as strings and lists) you can reach access elements of your data by its index. Python strings and lists are 0-indexed, which means the first element has index 0, the following has index 1 and so on ... \n",
    "\n",
    "For example on the list [\"Ananas\", \"Banana\", \"Cubes\"], the element \"Ananas\" has index 0, and the element \"Banana\" has index 1.\n",
    "\n",
    "If you have the string \"Ananas\", the letter \"A\" has index 0, and the letter \"s\" has index \"5\"."
   ]
  },
  {
   "cell_type": "code",
   "execution_count": null,
   "id": "86422f63",
   "metadata": {},
   "outputs": [],
   "source": [
    "new_list = [\"Ananas\", \"Banana\", \"Cherry\", \"Ananas\", \"Banana\", \"Cherry\"]"
   ]
  },
  {
   "cell_type": "code",
   "execution_count": null,
   "id": "d53c7872",
   "metadata": {},
   "outputs": [],
   "source": [
    "new_list"
   ]
  },
  {
   "cell_type": "markdown",
   "id": "7e051dfd",
   "metadata": {},
   "source": [
    "You can access the elements by writing the index in a square bracket after the variable name."
   ]
  },
  {
   "cell_type": "code",
   "execution_count": null,
   "id": "4f6ee9f2",
   "metadata": {},
   "outputs": [],
   "source": [
    "new_list[0] # the first element"
   ]
  },
  {
   "cell_type": "code",
   "execution_count": null,
   "id": "3887109d",
   "metadata": {},
   "outputs": [],
   "source": [
    "new_list[1] # the second element"
   ]
  },
  {
   "cell_type": "markdown",
   "id": "0a7c13e3",
   "metadata": {},
   "source": [
    "and you do exactly the same with strings ..."
   ]
  },
  {
   "cell_type": "code",
   "execution_count": null,
   "id": "affb21dd",
   "metadata": {},
   "outputs": [],
   "source": [
    "word = \"Ananas\""
   ]
  },
  {
   "cell_type": "code",
   "execution_count": null,
   "id": "b680ea9c",
   "metadata": {},
   "outputs": [],
   "source": [
    "word"
   ]
  },
  {
   "cell_type": "code",
   "execution_count": null,
   "id": "0316a4b7",
   "metadata": {},
   "outputs": [],
   "source": [
    "word[0] # the first letter"
   ]
  },
  {
   "cell_type": "code",
   "execution_count": null,
   "id": "42ef651c",
   "metadata": {},
   "outputs": [],
   "source": [
    "word[5] # the sixth letter"
   ]
  },
  {
   "cell_type": "markdown",
   "id": "aacdecfa",
   "metadata": {},
   "source": [
    "You can access parts of your lists and strings by \"_\" slicing \"_\" it. Here you specify which \"slices\" of your data you wants to acces in the square brackets, instead of just writing a single index."
   ]
  },
  {
   "cell_type": "markdown",
   "id": "ee8ec342",
   "metadata": {},
   "source": [
    "A slice specifies a start index and an end index, and are seperated by a colon \":\". Keep in mind that the index starts at 0, and that the last element defined by your end index is not included in your \"slice\"."
   ]
  },
  {
   "cell_type": "code",
   "execution_count": null,
   "id": "25dcb681",
   "metadata": {},
   "outputs": [],
   "source": [
    "new_list[0:3] # returns the first three elements on index 0, 1 and 2"
   ]
  },
  {
   "cell_type": "code",
   "execution_count": null,
   "id": "7cbb5e48",
   "metadata": {},
   "outputs": [],
   "source": [
    "new_list[3:5] # returns the elements on index 3 and 4"
   ]
  },
  {
   "cell_type": "markdown",
   "id": "41642e73",
   "metadata": {},
   "source": [
    "The same goes for strings ..."
   ]
  },
  {
   "cell_type": "code",
   "execution_count": null,
   "id": "279aedfa",
   "metadata": {},
   "outputs": [],
   "source": [
    "word[0:3] # returns the first three elements on index 0, 1 and 2"
   ]
  },
  {
   "cell_type": "code",
   "execution_count": null,
   "id": "026efc5c",
   "metadata": {},
   "outputs": [],
   "source": [
    "word[1:5]  # returns the elements on index 1,2, 3 and 4"
   ]
  },
  {
   "cell_type": "markdown",
   "id": "84d70392",
   "metadata": {},
   "source": [
    "For more about index and slicing: https://www.hackerearth.com/practice/notes/samarthbhargav/a-quick-intro-to-indexing-in-python/"
   ]
  },
  {
   "cell_type": "markdown",
   "id": "adf88868",
   "metadata": {},
   "source": [
    "# Loops"
   ]
  },
  {
   "cell_type": "markdown",
   "id": "ef5aec3b",
   "metadata": {},
   "source": [
    "If you have to run the same code on several elements, for example all your elements in a list or a string, you can make a loop which runs the same bit of code over and over again."
   ]
  },
  {
   "cell_type": "markdown",
   "id": "34045f9c",
   "metadata": {},
   "source": [
    "In the following example we want to print every letter in the word \"banana\"."
   ]
  },
  {
   "cell_type": "code",
   "execution_count": null,
   "id": "5d1badd8",
   "metadata": {},
   "outputs": [],
   "source": [
    "for x in \"banana\": # read: for every element \"x\" in the word \"banana\", do the following \":\"\n",
    "    print(x) #print the element \"x\" (which is the letter)\n"
   ]
  },
  {
   "cell_type": "markdown",
   "id": "f1eed18d",
   "metadata": {},
   "source": [
    "x is just a variable name, and may vary. You could have written \"letter\" instead:"
   ]
  },
  {
   "cell_type": "code",
   "execution_count": null,
   "id": "f7a15655",
   "metadata": {},
   "outputs": [],
   "source": [
    "for letter in \"banana\": # read: for every element \"x\" in the word \"banana\", do the following \":\"\n",
    "    print(letter) #print the element \"x\" (which is the letter)\n"
   ]
  },
  {
   "cell_type": "markdown",
   "id": "fbcc5c2e",
   "metadata": {},
   "source": [
    "And the same goes for lists:"
   ]
  },
  {
   "cell_type": "code",
   "execution_count": null,
   "id": "4a3d9a1a",
   "metadata": {},
   "outputs": [],
   "source": [
    "for word in new_list: # for every word on my list, do the following:\n",
    "    print(word) # print the word"
   ]
  },
  {
   "cell_type": "markdown",
   "id": "67dc365f",
   "metadata": {},
   "source": [
    "you can do several things for each element in a loop:"
   ]
  },
  {
   "cell_type": "code",
   "execution_count": null,
   "id": "f753a7c2",
   "metadata": {},
   "outputs": [],
   "source": [
    "for word in new_list: # for every word on my list, do the following:\n",
    "    print(word) # print the word\n",
    "    print(\"I'm in a loop!\") # print \"I'm in a loop\"\n",
    "    print(\"Let's make a smoothie!\") # print \"Let's make a smoothie\""
   ]
  },
  {
   "cell_type": "markdown",
   "id": "4e4be797",
   "metadata": {},
   "source": [
    "You can also print several things in one print command."
   ]
  },
  {
   "cell_type": "code",
   "execution_count": null,
   "id": "451a762e",
   "metadata": {},
   "outputs": [],
   "source": [
    "for word in new_list: # for every word on my list, do the following:\n",
    "    print(word, \"I'm in a loop!\", \"Let's make a smoothie!\") # print the word, \"I'm in a loop\" and \"Let's make a smoothie\""
   ]
  },
  {
   "cell_type": "markdown",
   "id": "01432dab",
   "metadata": {},
   "source": [
    "You can also apply functions within the loop:"
   ]
  },
  {
   "cell_type": "code",
   "execution_count": null,
   "id": "51d03bee",
   "metadata": {},
   "outputs": [],
   "source": [
    "for word in new_list: # for every word on my list, do the following:\n",
    "    print(word) # print the word\n",
    "    print(\"The length of the word is: \"), # print \"The length of the word is\"\n",
    "    print(len(word)) # count the lenght of the word (len(word)) and print it"
   ]
  },
  {
   "cell_type": "markdown",
   "id": "ac60a40c",
   "metadata": {},
   "source": [
    "Try to make a loop where the string \"The length of the word is: \" and the counted length of the word is printed in one command."
   ]
  },
  {
   "cell_type": "code",
   "execution_count": null,
   "id": "bc603423",
   "metadata": {},
   "outputs": [],
   "source": [
    "for word in new_list: # for every word on my list, do the following:\n",
    "    print() # type what needs to be printed"
   ]
  },
  {
   "cell_type": "markdown",
   "id": "d2abe63a",
   "metadata": {},
   "source": [
    "For more about loops see: https://www.w3schools.com/python/python_for_loops.asp"
   ]
  },
  {
   "cell_type": "markdown",
   "id": "038c6b74",
   "metadata": {},
   "source": [
    "# Functions"
   ]
  },
  {
   "cell_type": "markdown",
   "id": "856f79fd",
   "metadata": {},
   "source": [
    "A function is a block of code defined with a function name and a parenthesis that specifies how many inputs the function takes followed by a colon \":\", and only runs when you call it. Here's an example\n"
   ]
  },
  {
   "cell_type": "markdown",
   "id": "ac0d8008",
   "metadata": {},
   "source": [
    "I want to make a function that gives the second letter of every word in a list. I make a function called \"second letter\" and that takes one input - a list in this case."
   ]
  },
  {
   "cell_type": "code",
   "execution_count": null,
   "id": "2f5b32b6",
   "metadata": {},
   "outputs": [],
   "source": [
    "def second_letter(a_list): #def = define, second_letter = function name, (a_list) = input name\n",
    "    second_letter = [] # makes an empty list to store the second letters\n",
    "    for word in a_list: # a for loop: for every word on a_list, to the following:\n",
    "        second_letter.append(word[1]) # takes the second letter in word (word[1]) and appends on the list \"second_letter\"\n",
    "    return second_letter # return is a call for the output of the function, and work a bit like \"print\""
   ]
  },
  {
   "cell_type": "markdown",
   "id": "41157abd",
   "metadata": {},
   "source": [
    "when you run the above code, nothing is printed as output. The code is saved as a function and can now be called on a list"
   ]
  },
  {
   "cell_type": "code",
   "execution_count": null,
   "id": "ff54f732",
   "metadata": {},
   "outputs": [],
   "source": [
    "new_list # the list i want to use with my function"
   ]
  },
  {
   "cell_type": "code",
   "execution_count": null,
   "id": "8626097c",
   "metadata": {},
   "outputs": [],
   "source": [
    "second_letter(new_list)"
   ]
  },
  {
   "cell_type": "markdown",
   "id": "c9116a7d",
   "metadata": {},
   "source": [
    "You can make functions that takes more than one input. Here is an example of a function that combines two strings into one."
   ]
  },
  {
   "cell_type": "code",
   "execution_count": null,
   "id": "949233a6",
   "metadata": {},
   "outputs": [],
   "source": [
    "def combine_strings(str_A, str_B): # defines a function by the name \"combine_strings\", and have two inputs: \"str_A\", and \"str_B\"\n",
    "    combined = str_A + \" \" + str_B # makes a variable that adds a space and str_B at the end of str_A\n",
    "    return combined # returns / prints the variable \"combined\""
   ]
  },
  {
   "cell_type": "markdown",
   "id": "d0c5169b",
   "metadata": {},
   "source": [
    "Now I define two strings to use with my function"
   ]
  },
  {
   "cell_type": "code",
   "execution_count": null,
   "id": "db709399",
   "metadata": {},
   "outputs": [],
   "source": [
    "one_string = \"I just want a friend.\""
   ]
  },
  {
   "cell_type": "code",
   "execution_count": null,
   "id": "2a9f03fa",
   "metadata": {},
   "outputs": [],
   "source": [
    "another_string = \"Two is always better.\""
   ]
  },
  {
   "cell_type": "markdown",
   "id": "49ba0ea8",
   "metadata": {},
   "source": [
    "I now test my function. What would be the output?"
   ]
  },
  {
   "cell_type": "code",
   "execution_count": null,
   "id": "7b26f312",
   "metadata": {},
   "outputs": [],
   "source": [
    "combine_strings(one_string, another_string) # calls the function \"combine strings\" on the variables \"one_string\" and \"another_string\""
   ]
  },
  {
   "cell_type": "markdown",
   "id": "2596bf3c",
   "metadata": {},
   "source": [
    "See more about functions here: https://www.w3schools.com/python/python_functions.asp"
   ]
  },
  {
   "cell_type": "markdown",
   "id": "f9216b1d",
   "metadata": {},
   "source": [
    "# Conditionals"
   ]
  },
  {
   "cell_type": "markdown",
   "id": "2d46daeb",
   "metadata": {},
   "source": [
    "Python has some predefined conditional statements. A conditional statement as the name suggests itself, is used to handle conditions in your program. Conditionals controls whether other parts of your codes should run if certain conditions are met. You have six different operators:\n",
    "\n",
    "- equals: ==\n",
    "- Does noet equal !=\n",
    "- Greater than: >\n",
    "- Greater than og equals: >=\n",
    "- Less than: <\n",
    "- Less than or equals: <=\n",
    "\n",
    "An example:"
   ]
  },
  {
   "cell_type": "code",
   "execution_count": null,
   "id": "6a764e52",
   "metadata": {},
   "outputs": [],
   "source": [
    "a = \"secret password\" # make 'a' a variabel with the assigned value \"secret password\"\n",
    "print(\"Enter the secret password\") # print the string \"Enter the secret password\"\n",
    "b = input() # ask for a input, and assigns it with the variable b\n",
    "if a == b: # checks whether variable 'b' equals the variable 'a'. If this is true, do the following \":\"\n",
    "    print(\"You have unlocked the door!\") # print \"You have unlocked the door\". This is only printed if the condition is met\n",
    "else: # if the condition is not met, do the following \":\"\n",
    "    print(\"Access denied.\") # print \"Access denied.\" This is not printed if the condition is met."
   ]
  }
 ],
 "metadata": {
  "kernelspec": {
   "display_name": "Python 3 (ipykernel)",
   "language": "python",
   "name": "python3"
  },
  "language_info": {
   "codemirror_mode": {
    "name": "ipython",
    "version": 3
   },
   "file_extension": ".py",
   "mimetype": "text/x-python",
   "name": "python",
   "nbconvert_exporter": "python",
   "pygments_lexer": "ipython3",
   "version": "3.11.5"
  }
 },
 "nbformat": 4,
 "nbformat_minor": 5
}
