{
 "cells": [
  {
   "cell_type": "markdown",
   "id": "a92741d2",
   "metadata": {},
   "source": [
    "# Introduction to python with Al Sveigert"
   ]
  },
  {
   "cell_type": "markdown",
   "id": "53033ebf",
   "metadata": {},
   "source": [
    "In this first video you get some information about how python works. Al Sveigert does not use jupyter notebook, so it all looks different from this notebook. Just listen to this first video and wait with the coding until video number 2 and 3. \n",
    "\n",
    "Video 1: https://www.youtube.com/watch?v=1F_OgqRuSdI"
   ]
  },
  {
   "cell_type": "markdown",
   "id": "20cbe05a",
   "metadata": {},
   "source": [
    "In the second video you should type along. The first couple of code-examples are written for you, but try to code along every example in the video yourself. If you need more space for coding you can press the 'plus'-button at the top of the page. Run the code by marking your code snippet and press the \"Run\"-button at top, or by marking the code snippet and press 'Shift'+'Enter'\n",
    "\n",
    "Video 2: https://www.youtube.com/watch?v=7qHMXu99d88 "
   ]
  },
  {
   "cell_type": "code",
   "execution_count": null,
   "id": "07a82878",
   "metadata": {},
   "outputs": [],
   "source": [
    "2+2"
   ]
  },
  {
   "cell_type": "code",
   "execution_count": null,
   "id": "987d6f83",
   "metadata": {},
   "outputs": [],
   "source": [
    "2"
   ]
  },
  {
   "cell_type": "code",
   "execution_count": null,
   "id": "313e3c85",
   "metadata": {},
   "outputs": [],
   "source": [
    "5 - 3"
   ]
  },
  {
   "cell_type": "code",
   "execution_count": null,
   "id": "0e5445fb",
   "metadata": {},
   "outputs": [],
   "source": [
    "3 * 7"
   ]
  },
  {
   "cell_type": "markdown",
   "id": "24709db9",
   "metadata": {},
   "source": [
    "From now on, you should write your own code ..."
   ]
  },
  {
   "cell_type": "code",
   "execution_count": null,
   "id": "9ea40c51",
   "metadata": {},
   "outputs": [],
   "source": []
  },
  {
   "cell_type": "code",
   "execution_count": null,
   "id": "96f5bdc7",
   "metadata": {},
   "outputs": [],
   "source": []
  },
  {
   "cell_type": "code",
   "execution_count": null,
   "id": "980246fa",
   "metadata": {},
   "outputs": [],
   "source": []
  },
  {
   "cell_type": "markdown",
   "id": "b4c69681",
   "metadata": {},
   "source": [
    "In the third video you will see somethink called \"Input\". When running this type of data a white box appears. Here you should type something and press \"Enter\", which will be saved as your input.\n",
    "\n",
    "Video 3: https://www.youtube.com/watch?v=buMTH6ICnqk "
   ]
  },
  {
   "cell_type": "code",
   "execution_count": null,
   "id": "c1fdc7a1",
   "metadata": {},
   "outputs": [],
   "source": [
    "print(\"Hello world\")"
   ]
  },
  {
   "cell_type": "code",
   "execution_count": null,
   "id": "f931a92d",
   "metadata": {},
   "outputs": [],
   "source": []
  },
  {
   "cell_type": "code",
   "execution_count": null,
   "id": "a41c7f41",
   "metadata": {},
   "outputs": [],
   "source": []
  }
 ],
 "metadata": {
  "kernelspec": {
   "display_name": "Python 3 (ipykernel)",
   "language": "python",
   "name": "python3"
  },
  "language_info": {
   "codemirror_mode": {
    "name": "ipython",
    "version": 3
   },
   "file_extension": ".py",
   "mimetype": "text/x-python",
   "name": "python",
   "nbconvert_exporter": "python",
   "pygments_lexer": "ipython3",
   "version": "3.11.5"
  }
 },
 "nbformat": 4,
 "nbformat_minor": 5
}
